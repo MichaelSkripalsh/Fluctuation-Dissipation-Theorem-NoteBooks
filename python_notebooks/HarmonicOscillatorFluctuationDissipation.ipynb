{
 "cells": [
  {
   "cell_type": "code",
   "execution_count": null,
   "id": "bbf04966",
   "metadata": {},
   "outputs": [],
   "source": []
  },
  {
   "cell_type": "code",
   "execution_count": null,
   "id": "4e849218",
   "metadata": {},
   "outputs": [],
   "source": []
  },
  {
   "cell_type": "code",
   "execution_count": null,
   "id": "56bd2c23",
   "metadata": {},
   "outputs": [],
   "source": []
  },
  {
   "cell_type": "code",
   "execution_count": null,
   "id": "b37d3523",
   "metadata": {},
   "outputs": [],
   "source": []
  },
  {
   "cell_type": "code",
   "execution_count": null,
   "id": "98425937",
   "metadata": {},
   "outputs": [],
   "source": []
  },
  {
   "cell_type": "code",
   "execution_count": null,
   "id": "33637e49",
   "metadata": {},
   "outputs": [],
   "source": []
  },
  {
   "cell_type": "code",
   "execution_count": null,
   "id": "7f5c89f4",
   "metadata": {},
   "outputs": [],
   "source": []
  },
  {
   "cell_type": "code",
   "execution_count": null,
   "id": "ddd594ae",
   "metadata": {},
   "outputs": [],
   "source": []
  },
  {
   "cell_type": "code",
   "execution_count": null,
   "id": "345a0fed",
   "metadata": {},
   "outputs": [],
   "source": []
  },
  {
   "cell_type": "code",
   "execution_count": null,
   "id": "a01747a9",
   "metadata": {},
   "outputs": [],
   "source": []
  },
  {
   "cell_type": "code",
   "execution_count": null,
   "id": "7de05d06",
   "metadata": {},
   "outputs": [],
   "source": []
  },
  {
   "cell_type": "code",
   "execution_count": null,
   "id": "8abe6334",
   "metadata": {},
   "outputs": [],
   "source": []
  },
  {
   "cell_type": "code",
   "execution_count": null,
   "id": "722ed180",
   "metadata": {},
   "outputs": [],
   "source": []
  },
  {
   "cell_type": "code",
   "execution_count": null,
   "id": "862d5027",
   "metadata": {},
   "outputs": [],
   "source": []
  },
  {
   "cell_type": "code",
   "execution_count": null,
   "id": "c84a37e1",
   "metadata": {},
   "outputs": [],
   "source": []
  },
  {
   "cell_type": "code",
   "execution_count": 1,
   "id": "b351ef3f",
   "metadata": {},
   "outputs": [],
   "source": [
    "import numpy as np\n",
    "import matplotlib.pyplot as plt\n",
    "from scipy import signal\n",
    "from scipy.fft import fftshift"
   ]
  },
  {
   "cell_type": "code",
   "execution_count": 2,
   "id": "d8346228",
   "metadata": {},
   "outputs": [],
   "source": [
    "Kb = 1"
   ]
  },
  {
   "cell_type": "code",
   "execution_count": 3,
   "id": "03235324",
   "metadata": {},
   "outputs": [],
   "source": [
    "\"\"\" \"\"\"\n",
    "def dvdt1(x, y, z, damping, Temperature):\n",
    "    return -100 * y + damping * z\n",
    "\n",
    "\"\"\" \"\"\"\n",
    "def dxdt1(x, y, z, damping, Temperature):\n",
    "    return z"
   ]
  },
  {
   "cell_type": "code",
   "execution_count": 4,
   "id": "a15f8192",
   "metadata": {},
   "outputs": [],
   "source": [
    "def harmonic_oscillator_energy(p, q):\n",
    "    return 0.5 * p**2 + 0.5 * q**2"
   ]
  },
  {
   "cell_type": "code",
   "execution_count": 5,
   "id": "2622b382",
   "metadata": {},
   "outputs": [],
   "source": [
    "def RungeKuttaCoupled1(x, y, z, dx, dydx, dzdx, damping, T):\n",
    "    # x --> t\n",
    "    # y --> x\n",
    "    # z --> v\n",
    "    # dydx --> dx/dt = v\n",
    "    # dzdx --> dv/dt = -x\n",
    "    \n",
    "    z = z + 6 * Kb * T * damping * (2 * np.random.uniform() - 1) #random velocity kick\n",
    "    \n",
    "    \n",
    "    k1 = dx*dydx(x, y, z, damping, T)\n",
    "    h1 = dx*dzdx(x, y, z, damping, T)\n",
    "    k2 = dx*dydx(x+dx/2., y+k1/2., z+h1/2., damping, T)\n",
    "    h2 = dx*dzdx(x+dx/2., y+k1/2., z+h1/2., damping, T)\n",
    "    k3 = dx*dydx(x+dx/2., y+k2/2., z+h2/2., damping, T)\n",
    "    h3 = dx*dzdx(x+dx/2., y+k2/2., z+h2/2., damping, T)\n",
    "    k4 = dx*dydx(x+dx, y+k3, z+h3, damping, T)\n",
    "    h4 = dx*dzdx(x+dx, y+k3, z+h3, damping, T)\n",
    "    \n",
    "    \n",
    "\n",
    "\n",
    "    y = y + 1./6.*(k1+2*k2+2*k3+k4)\n",
    "    z = z + 1./6.*(h1+2*h2+2*h3+h4)\n",
    "    #x = x + dx\n",
    "    \n",
    "    return y, z"
   ]
  },
  {
   "cell_type": "code",
   "execution_count": 6,
   "id": "7a5d51c7",
   "metadata": {},
   "outputs": [],
   "source": [
    "_TIME_STEP = 0.01"
   ]
  },
  {
   "cell_type": "code",
   "execution_count": 7,
   "id": "71e7215f",
   "metadata": {},
   "outputs": [],
   "source": [
    "_INITAL_POSITION = 3\n",
    "_INITAL_VELOCITY = 0"
   ]
  },
  {
   "cell_type": "code",
   "execution_count": 8,
   "id": "17fc1329",
   "metadata": {},
   "outputs": [],
   "source": [
    "_N_TIME_STEPS = int(1e6)"
   ]
  },
  {
   "cell_type": "code",
   "execution_count": 9,
   "id": "6a4bb51d",
   "metadata": {},
   "outputs": [],
   "source": [
    "time = 0\n",
    "dt = _TIME_STEP\n",
    "t_end = _N_TIME_STEPS * _TIME_STEP"
   ]
  },
  {
   "cell_type": "code",
   "execution_count": 10,
   "id": "70c8558e",
   "metadata": {},
   "outputs": [],
   "source": [
    "positions = np.zeros(_N_TIME_STEPS)\n",
    "velocities = np.zeros(_N_TIME_STEPS)\n",
    "forces = np.zeros(_N_TIME_STEPS)\n",
    "\n",
    "ENERGY = np.zeros(_N_TIME_STEPS)"
   ]
  },
  {
   "cell_type": "code",
   "execution_count": 11,
   "id": "b29e528d",
   "metadata": {},
   "outputs": [],
   "source": [
    "positions[0] = _INITAL_POSITION\n",
    "velocities[0] = _INITAL_VELOCITY"
   ]
  },
  {
   "cell_type": "code",
   "execution_count": 12,
   "id": "32895c88",
   "metadata": {},
   "outputs": [],
   "source": [
    "damping = 1e-5\n",
    "T = 300"
   ]
  },
  {
   "cell_type": "code",
   "execution_count": 13,
   "id": "4042f089",
   "metadata": {},
   "outputs": [],
   "source": [
    "E = np.zeros(_N_TIME_STEPS)"
   ]
  },
  {
   "cell_type": "code",
   "execution_count": 14,
   "id": "31b8df21",
   "metadata": {},
   "outputs": [],
   "source": [
    "for step in range(_N_TIME_STEPS - 1):\n",
    "    p, v = RungeKuttaCoupled1(time, positions[step], velocities[step], dt, dxdt1, dvdt1, damping, T)\n",
    "    positions[step + 1] = p\n",
    "    velocities[step + 1] = v\n",
    "    E[step] = harmonic_oscillator_energy(p, v)\n",
    "    time = time + dt"
   ]
  },
  {
   "cell_type": "code",
   "execution_count": 15,
   "id": "7cac7f9e",
   "metadata": {},
   "outputs": [
    {
     "data": {
      "text/plain": [
       "[<matplotlib.lines.Line2D at 0x7fe55eee2160>]"
      ]
     },
     "execution_count": 15,
     "metadata": {},
     "output_type": "execute_result"
    },
    {
     "data": {
      "image/png": "[encoded data removed]",
      "text/plain": [
       "<Figure size 432x288 with 1 Axes>"
      ]
     },
     "metadata": {
      "needs_background": "light"
     },
     "output_type": "display_data"
    }
   ],
   "source": [
    "plt.plot(E)"
   ]
  },
  {
   "cell_type": "code",
   "execution_count": 16,
   "id": "6f1e7bfd",
   "metadata": {},
   "outputs": [
    {
     "data": {
      "text/plain": [
       "181.0241590495593"
      ]
     },
     "execution_count": 16,
     "metadata": {},
     "output_type": "execute_result"
    }
   ],
   "source": [
    "np.average(E)"
   ]
  },
  {
   "cell_type": "code",
   "execution_count": 17,
   "id": "06fd744a",
   "metadata": {},
   "outputs": [],
   "source": [
    "positions;"
   ]
  },
  {
   "cell_type": "code",
   "execution_count": 18,
   "id": "80b5e3a1",
   "metadata": {},
   "outputs": [
    {
     "data": {
      "text/plain": [
       "[<matplotlib.lines.Line2D at 0x7fe5480b1d60>]"
      ]
     },
     "execution_count": 18,
     "metadata": {},
     "output_type": "execute_result"
    },
    {
     "data": {
      "image/png": "[encoded data removed]",
      "text/plain": [
       "<Figure size 432x288 with 1 Axes>"
      ]
     },
     "metadata": {
      "needs_background": "light"
     },
     "output_type": "display_data"
    }
   ],
   "source": [
    "plt.plot(positions)"
   ]
  },
  {
   "cell_type": "code",
   "execution_count": 19,
   "id": "43700de8",
   "metadata": {},
   "outputs": [
    {
     "data": {
      "text/plain": [
       "[<matplotlib.lines.Line2D at 0x7fe5480caaf0>]"
      ]
     },
     "execution_count": 19,
     "metadata": {},
     "output_type": "execute_result"
    },
    {
     "data": {
      "image/png": "[encoded data removed]",
      "text/plain": [
       "<Figure size 432x288 with 1 Axes>"
      ]
     },
     "metadata": {
      "needs_background": "light"
     },
     "output_type": "display_data"
    }
   ],
   "source": [
    "plt.plot(velocities)"
   ]
  },
  {
   "cell_type": "code",
   "execution_count": 27,
   "id": "877a7cd0",
   "metadata": {},
   "outputs": [
    {
     "data": {
      "text/plain": [
       "[<matplotlib.lines.Line2D at 0x7fe521eaf0a0>]"
      ]
     },
     "execution_count": 27,
     "metadata": {},
     "output_type": "execute_result"
    },
    {
     "data": {
      "image/png": "[encoded data removed]",
      "text/plain": [
       "<Figure size 432x288 with 1 Axes>"
      ]
     },
     "metadata": {
      "needs_background": "light"
     },
     "output_type": "display_data"
    }
   ],
   "source": [
    "plt.plot(positions[:40000])\n",
    "#plt.plot(velocities[:4000])"
   ]
  },
  {
   "cell_type": "code",
   "execution_count": 21,
   "id": "6df33b5d",
   "metadata": {},
   "outputs": [
    {
     "data": {
      "text/plain": [
       "[<matplotlib.lines.Line2D at 0x7fe53be82b20>]"
      ]
     },
     "execution_count": 21,
     "metadata": {},
     "output_type": "execute_result"
    },
    {
     "data": {
      "image/png": "[encoded data removed]",
      "text/plain": [
       "<Figure size 432x288 with 1 Axes>"
      ]
     },
     "metadata": {
      "needs_background": "light"
     },
     "output_type": "display_data"
    }
   ],
   "source": [
    "plt.plot(positions, velocities)"
   ]
  },
  {
   "cell_type": "code",
   "execution_count": 22,
   "id": "0fb06f13",
   "metadata": {},
   "outputs": [
    {
     "data": {
      "image/png": "[encoded data removed]",
      "text/plain": [
       "<Figure size 432x288 with 1 Axes>"
      ]
     },
     "metadata": {
      "needs_background": "light"
     },
     "output_type": "display_data"
    }
   ],
   "source": [
    "fs = 10\n",
    "N = 1e5\n",
    "f, t, Sxx = signal.spectrogram(positions[:1000], fs)\n",
    "plt.pcolormesh(t, f, Sxx, shading='gouraud')\n",
    "df = f[3] - f[2]\n",
    "plt.ylabel('Frequency [Hz]')\n",
    "plt.xlabel('Time [sec]')\n",
    "plt.show()"
   ]
  },
  {
   "cell_type": "code",
   "execution_count": null,
   "id": "3485ff5f",
   "metadata": {},
   "outputs": [],
   "source": []
  },
  {
   "cell_type": "code",
   "execution_count": null,
   "id": "16b179a2",
   "metadata": {},
   "outputs": [],
   "source": []
  },
  {
   "cell_type": "code",
   "execution_count": null,
   "id": "49256e84",
   "metadata": {},
   "outputs": [],
   "source": []
  }
 ],
 "metadata": {
  "kernelspec": {
   "display_name": "Python 3 (ipykernel)",
   "language": "python",
   "name": "python3"
  },
  "language_info": {
   "codemirror_mode": {
    "name": "ipython",
    "version": 3
   },
   "file_extension": ".py",
   "mimetype": "text/x-python",
   "name": "python",
   "nbconvert_exporter": "python",
   "pygments_lexer": "ipython3",
   "version": "3.9.7"
  }
 },
 "nbformat": 4,
 "nbformat_minor": 5
}
