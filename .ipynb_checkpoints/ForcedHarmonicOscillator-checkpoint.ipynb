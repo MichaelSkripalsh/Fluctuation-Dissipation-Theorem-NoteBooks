{
 "cells": [
  {
   "cell_type": "markdown",
   "id": "913e674c",
   "metadata": {},
   "source": [
    "# Forced Harmonic Oscillator \n",
    "\n",
    "In this notebook we explore the dynamics and behaviour of a one dimensional forced harmonic oscillator. We use the same code for the harmonic oscillator as our "
   ]
  },
  {
   "cell_type": "code",
   "execution_count": null,
   "id": "7cf6106f",
   "metadata": {},
   "outputs": [],
   "source": []
  },
  {
   "cell_type": "code",
   "execution_count": null,
   "id": "02b06ec2",
   "metadata": {},
   "outputs": [],
   "source": []
  },
  {
   "cell_type": "code",
   "execution_count": null,
   "id": "f259dbc8",
   "metadata": {},
   "outputs": [],
   "source": []
  },
  {
   "cell_type": "code",
   "execution_count": null,
   "id": "a63e6b0b",
   "metadata": {},
   "outputs": [],
   "source": []
  },
  {
   "cell_type": "code",
   "execution_count": 1,
   "id": "787d7e48",
   "metadata": {},
   "outputs": [],
   "source": [
    "import numpy as np\n",
    "import matplotlib.pyplot as plt\n",
    "from scipy import signal\n",
    "from scipy.fft import fftshift"
   ]
  },
  {
   "cell_type": "code",
   "execution_count": 2,
   "id": "7066be0e",
   "metadata": {},
   "outputs": [],
   "source": [
    "omega0 = 100\n",
    "gamma = 2"
   ]
  },
  {
   "cell_type": "code",
   "execution_count": 3,
   "id": "b589a868",
   "metadata": {},
   "outputs": [],
   "source": [
    "\"\"\" \"\"\"\n",
    "def dvdt1(x, y, z):\n",
    "    return -omega0 * y - gamma * z\n",
    "\n",
    "\"\"\" \"\"\"\n",
    "def dxdt1(x, y, z):\n",
    "    return z"
   ]
  },
  {
   "cell_type": "code",
   "execution_count": 4,
   "id": "e2077f3a",
   "metadata": {},
   "outputs": [],
   "source": [
    "def RungeKuttaCoupled1(x, y, z, dx, dydx, dzdx):\n",
    "    # x --> t\n",
    "    # y --> x\n",
    "    # z --> v\n",
    "    # dydx --> dx/dt = v\n",
    "    # dzdx --> dv/dt = -x\n",
    "    \n",
    "    k1 = dx*dydx(x, y, z)\n",
    "    h1 = dx*dzdx(x, y, z)\n",
    "    k2 = dx*dydx(x+dx/2., y+k1/2., z+h1/2.)\n",
    "    h2 = dx*dzdx(x+dx/2., y+k1/2., z+h1/2.)\n",
    "    k3 = dx*dydx(x+dx/2., y+k2/2., z+h2/2.)\n",
    "    h3 = dx*dzdx(x+dx/2., y+k2/2., z+h2/2.)\n",
    "    k4 = dx*dydx(x+dx, y+k3, z+h3)\n",
    "    h4 = dx*dzdx(x+dx, y+k3, z+h3)\n",
    "\n",
    "    y = y + 1./6.*(k1+2*k2+2*k3+k4)\n",
    "    z = z + 1./6.*(h1+2*h2+2*h3+h4)\n",
    "    #x = x + dx\n",
    "    \n",
    "    return y, z"
   ]
  },
  {
   "cell_type": "code",
   "execution_count": 5,
   "id": "5c494a2a",
   "metadata": {},
   "outputs": [],
   "source": [
    "_TIME_STEP = 0.01"
   ]
  },
  {
   "cell_type": "code",
   "execution_count": 6,
   "id": "a88441f2",
   "metadata": {},
   "outputs": [],
   "source": [
    "_INITAL_POSITION = 3\n",
    "_INITAL_VELOCITY = 0"
   ]
  },
  {
   "cell_type": "code",
   "execution_count": 7,
   "id": "a41a4dc7",
   "metadata": {},
   "outputs": [],
   "source": [
    "_N_TIME_STEPS = int(1e4)"
   ]
  },
  {
   "cell_type": "code",
   "execution_count": 8,
   "id": "d5d4b111",
   "metadata": {},
   "outputs": [],
   "source": [
    "time = 0\n",
    "dt = _TIME_STEP\n",
    "t_end = _N_TIME_STEPS * _TIME_STEP"
   ]
  },
  {
   "cell_type": "code",
   "execution_count": 9,
   "id": "4c5899fb",
   "metadata": {},
   "outputs": [],
   "source": [
    "positions = np.zeros(_N_TIME_STEPS)\n",
    "velocities = np.zeros(_N_TIME_STEPS)\n",
    "forces = np.zeros(_N_TIME_STEPS)\n",
    "\n",
    "ENERGY = np.zeros(_N_TIME_STEPS)"
   ]
  },
  {
   "cell_type": "code",
   "execution_count": 10,
   "id": "fdca7554",
   "metadata": {},
   "outputs": [],
   "source": [
    "positions[0] = _INITAL_POSITION\n",
    "velocities[0] = _INITAL_VELOCITY"
   ]
  },
  {
   "cell_type": "code",
   "execution_count": 11,
   "id": "84901b2e",
   "metadata": {},
   "outputs": [
    {
     "name": "stdout",
     "output_type": "stream",
     "text": [
      "works?\n"
     ]
    }
   ],
   "source": [
    "for step in range(_N_TIME_STEPS - 1):\n",
    "    p, v = RungeKuttaCoupled1(time, positions[step], velocities[step], dt, dxdt1, dvdt1)\n",
    "    positions[step + 1] = p\n",
    "    \n",
    "    if(step == 2000):\n",
    "        print(\"works?\")\n",
    "        velocities[step + 1] = v + 100.0\n",
    "    else:\n",
    "        velocities[step + 1] = v\n",
    "        \n",
    "        \n",
    "    time = time + dt"
   ]
  },
  {
   "cell_type": "code",
   "execution_count": 12,
   "id": "a2cf0949",
   "metadata": {},
   "outputs": [],
   "source": [
    "positions;"
   ]
  },
  {
   "cell_type": "code",
   "execution_count": 13,
   "id": "ecb8ce12",
   "metadata": {},
   "outputs": [
    {
     "data": {
      "text/plain": [
       "[<matplotlib.lines.Line2D at 0x7fb59e5f5df0>]"
      ]
     },
     "execution_count": 13,
     "metadata": {},
     "output_type": "execute_result"
    },
    {
     "data": {
      "image/png": "[encoded data removed]",
      "text/plain": [
       "<Figure size 432x288 with 1 Axes>"
      ]
     },
     "metadata": {
      "needs_background": "light"
     },
     "output_type": "display_data"
    }
   ],
   "source": [
    "plt.plot(positions)"
   ]
  },
  {
   "cell_type": "code",
   "execution_count": 14,
   "id": "b7041847",
   "metadata": {},
   "outputs": [
    {
     "data": {
      "text/plain": [
       "[<matplotlib.lines.Line2D at 0x7fb59e7d0d60>]"
      ]
     },
     "execution_count": 14,
     "metadata": {},
     "output_type": "execute_result"
    },
    {
     "data": {
      "image/png": "[encoded data removed]",
      "text/plain": [
       "<Figure size 432x288 with 1 Axes>"
      ]
     },
     "metadata": {
      "needs_background": "light"
     },
     "output_type": "display_data"
    }
   ],
   "source": [
    "plt.plot(velocities)"
   ]
  },
  {
   "cell_type": "code",
   "execution_count": 15,
   "id": "1898b43b",
   "metadata": {},
   "outputs": [
    {
     "data": {
      "text/plain": [
       "[<matplotlib.lines.Line2D at 0x7fb59e9cd850>]"
      ]
     },
     "execution_count": 15,
     "metadata": {},
     "output_type": "execute_result"
    },
    {
     "data": {
      "image/png": "[encoded data removed]",
      "text/plain": [
       "<Figure size 432x288 with 1 Axes>"
      ]
     },
     "metadata": {
      "needs_background": "light"
     },
     "output_type": "display_data"
    }
   ],
   "source": [
    "plt.plot(positions)\n",
    "plt.plot(velocities)"
   ]
  },
  {
   "cell_type": "code",
   "execution_count": 16,
   "id": "b9117c5c",
   "metadata": {},
   "outputs": [
    {
     "data": {
      "text/plain": [
       "[<matplotlib.lines.Line2D at 0x7fb59eb0b9a0>]"
      ]
     },
     "execution_count": 16,
     "metadata": {},
     "output_type": "execute_result"
    },
    {
     "data": {
      "image/png": "[encoded data removed]",
      "text/plain": [
       "<Figure size 432x288 with 1 Axes>"
      ]
     },
     "metadata": {
      "needs_background": "light"
     },
     "output_type": "display_data"
    }
   ],
   "source": [
    "plt.plot(positions, velocities)"
   ]
  },
  {
   "cell_type": "code",
   "execution_count": 17,
   "id": "bd167110",
   "metadata": {},
   "outputs": [
    {
     "data": {
      "image/png": "[encoded data removed]",
      "text/plain": [
       "<Figure size 432x288 with 1 Axes>"
      ]
     },
     "metadata": {
      "needs_background": "light"
     },
     "output_type": "display_data"
    }
   ],
   "source": [
    "fs = 10\n",
    "N = 1e5\n",
    "f, t, Sxx = signal.spectrogram(positions[:1000], fs)\n",
    "plt.pcolormesh(t, f, Sxx, shading='gouraud')\n",
    "df = f[3] - f[2]\n",
    "plt.ylabel('Frequency [Hz]')\n",
    "plt.xlabel('Time [sec]')\n",
    "plt.show()"
   ]
  },
  {
   "cell_type": "code",
   "execution_count": null,
   "id": "9d2b5068",
   "metadata": {},
   "outputs": [],
   "source": []
  },
  {
   "cell_type": "code",
   "execution_count": null,
   "id": "a0046582",
   "metadata": {},
   "outputs": [],
   "source": []
  },
  {
   "cell_type": "code",
   "execution_count": null,
   "id": "81aae6fa",
   "metadata": {},
   "outputs": [],
   "source": []
  },
  {
   "cell_type": "code",
   "execution_count": null,
   "id": "0a893442",
   "metadata": {},
   "outputs": [],
   "source": []
  },
  {
   "cell_type": "code",
   "execution_count": null,
   "id": "e99068bf",
   "metadata": {},
   "outputs": [],
   "source": []
  }
 ],
 "metadata": {
  "kernelspec": {
   "display_name": "Python 3 (ipykernel)",
   "language": "python",
   "name": "python3"
  },
  "language_info": {
   "codemirror_mode": {
    "name": "ipython",
    "version": 3
   },
   "file_extension": ".py",
   "mimetype": "text/x-python",
   "name": "python",
   "nbconvert_exporter": "python",
   "pygments_lexer": "ipython3",
   "version": "3.9.7"
  }
 },
 "nbformat": 4,
 "nbformat_minor": 5
}
