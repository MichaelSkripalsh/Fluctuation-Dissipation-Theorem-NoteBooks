{
 "cells": [
  {
   "cell_type": "markdown",
   "id": "8efec58e",
   "metadata": {},
   "source": [
    "# The 1-d Harmonic Oscillator"
   ]
  },
  {
   "cell_type": "markdown",
   "id": "d95f3114",
   "metadata": {},
   "source": [
    "## Table of Contents:\n",
    "* [Introduction](#first-bullet)\n",
    "* [Classical Harmonic Oscillator](#second-bullet)\n",
    "* [Numerical Methods](#second-bullet)\n",
    "* [Damped Oscillator](#second-bullet)\n",
    "* [Forced Oscillator](#second-bullet)\n",
    "* [Linear Response Theory](#second-bullet)\n",
    "* [Phase Space](#second-bullet)\n",
    "* [Nonlinear Oscillator](#second-bullet)\n",
    "* [Quantum Mechanical Harmonic Oscillator](#second-bullet)"
   ]
  },
  {
   "cell_type": "markdown",
   "id": "5eb52de8",
   "metadata": {},
   "source": []
  },
  {
   "cell_type": "markdown",
   "id": "9548a84e",
   "metadata": {},
   "source": [
    "## Introduction <a class=\"anchor\" id=\"first-bullet\"></a>"
   ]
  },
  {
   "cell_type": "markdown",
   "id": "13a5fdf3",
   "metadata": {},
   "source": [
    "Conservative mechanical systems are those that \n",
    "    1. Only depend on space\n",
    "    2. The work done is path independent\n",
    "    3. Energy is conserved\n",
    "    4. The forces have no curl\n",
    "    5. The forces can be expressed as the gradient of a scalar field "
   ]
  },
  {
   "cell_type": "markdown",
   "id": "bd053db8",
   "metadata": {},
   "source": [
    "Local Minima in mechanical systems are harmonic oscillators"
   ]
  },
  {
   "cell_type": "markdown",
   "id": "2319be5d",
   "metadata": {},
   "source": [
    "Harmonic Oscillator Newtonian View"
   ]
  },
  {
   "cell_type": "markdown",
   "id": "923bfde6",
   "metadata": {},
   "source": [
    "Harmonic Oscillator Lagrangian View"
   ]
  },
  {
   "cell_type": "markdown",
   "id": "d98c3ea6",
   "metadata": {},
   "source": [
    "Harmonic Oscillator Hamiltonian View"
   ]
  },
  {
   "cell_type": "code",
   "execution_count": null,
   "id": "65b2de8e",
   "metadata": {},
   "outputs": [],
   "source": []
  },
  {
   "cell_type": "markdown",
   "id": "40662a5b",
   "metadata": {},
   "source": [
    "\n",
    "## Classical Harmonic Oscillator <a class=\"anchor\" id=\"second-bullet\"></a>"
   ]
  },
  {
   "cell_type": "markdown",
   "id": "f576ddef",
   "metadata": {},
   "source": [
    "One dimensional Oscillator"
   ]
  },
  {
   "cell_type": "markdown",
   "id": "3baedeb3",
   "metadata": {},
   "source": [
    "Two dimensional Harmonic Oscillator"
   ]
  },
  {
   "cell_type": "markdown",
   "id": "0ec8e129",
   "metadata": {},
   "source": []
  },
  {
   "cell_type": "markdown",
   "id": "eebdc056",
   "metadata": {},
   "source": [
    "\n",
    "## Third Bullet Header <a class=\"anchor\" id=\"third-bullet\"></a>"
   ]
  },
  {
   "cell_type": "markdown",
   "id": "cab4aded",
   "metadata": {},
   "source": [
    "\n",
    "## Fourth Bullet Header <a class=\"anchor\" id=\"fourth-bullet\"></a>"
   ]
  },
  {
   "cell_type": "code",
   "execution_count": 1,
   "id": "35e2a6a4",
   "metadata": {},
   "outputs": [],
   "source": [
    "## F Bullet Header <a class=\"anchor\" id=\"second-bullet\"></a>"
   ]
  },
  {
   "cell_type": "code",
   "execution_count": 2,
   "id": "26e953fc",
   "metadata": {},
   "outputs": [],
   "source": [
    "## Fourth Bullet Header <a class=\"anchor\" id=\"second-bullet\"></a>"
   ]
  },
  {
   "cell_type": "code",
   "execution_count": 3,
   "id": "03741b81",
   "metadata": {},
   "outputs": [],
   "source": [
    "## Fourth Bullet Header <a class=\"anchor\" id=\"second-bullet\"></a>"
   ]
  },
  {
   "cell_type": "code",
   "execution_count": 4,
   "id": "2f5bf878",
   "metadata": {},
   "outputs": [],
   "source": [
    "## Fourth Bullet Header <a class=\"anchor\" id=\"second-bullet\"></a>"
   ]
  },
  {
   "cell_type": "code",
   "execution_count": 5,
   "id": "21528438",
   "metadata": {},
   "outputs": [],
   "source": [
    "import numpy as np\n",
    "import matplotlib.pyplot as plt\n",
    "from scipy import signal\n",
    "from scipy.fft import fftshift"
   ]
  },
  {
   "cell_type": "markdown",
   "id": "08bbe835",
   "metadata": {},
   "source": [
    "$m\\ddot{x} = -kx$\n",
    "\n",
    "$\\dot{v} = -\\frac{k}{m}x$this is dvdt  \\\n",
    "$v = \\dot{x}$ this is dxdt1\n"
   ]
  },
  {
   "cell_type": "code",
   "execution_count": 6,
   "id": "f933e9e1",
   "metadata": {},
   "outputs": [],
   "source": [
    "\"\"\" \"\"\"\n",
    "def dvdt1(x, y, z):\n",
    "    return -100 * y\n",
    "\n",
    "\"\"\" \"\"\"\n",
    "def dxdt1(x, y, z):\n",
    "    return z"
   ]
  },
  {
   "cell_type": "code",
   "execution_count": 7,
   "id": "4f0b4e4f",
   "metadata": {},
   "outputs": [],
   "source": [
    "def RungeKuttaCoupled1(x, y, z, dx, dydx, dzdx):\n",
    "    # x --> t\n",
    "    # y --> x\n",
    "    # z --> v\n",
    "    # dydx --> dx/dt = v\n",
    "    # dzdx --> dv/dt = -x\n",
    "    k1 = dx*dydx(x, y, z)\n",
    "    h1 = dx*dzdx(x, y, z)\n",
    "    k2 = dx*dydx(x+dx/2., y+k1/2., z+h1/2.)\n",
    "    h2 = dx*dzdx(x+dx/2., y+k1/2., z+h1/2.)\n",
    "    k3 = dx*dydx(x+dx/2., y+k2/2., z+h2/2.)\n",
    "    h3 = dx*dzdx(x+dx/2., y+k2/2., z+h2/2.)\n",
    "    k4 = dx*dydx(x+dx, y+k3, z+h3)\n",
    "    h4 = dx*dzdx(x+dx, y+k3, z+h3)\n",
    "\n",
    "    y = y + 1./6.*(k1+2*k2+2*k3+k4)\n",
    "    z = z + 1./6.*(h1+2*h2+2*h3+h4)\n",
    "    #x = x + dx\n",
    "    \n",
    "    return y, z"
   ]
  },
  {
   "cell_type": "code",
   "execution_count": 8,
   "id": "9dc73679",
   "metadata": {},
   "outputs": [],
   "source": [
    "_TIME_STEP = 0.01"
   ]
  },
  {
   "cell_type": "code",
   "execution_count": 9,
   "id": "149857ef",
   "metadata": {},
   "outputs": [],
   "source": [
    "_INITAL_POSITION = 3\n",
    "_INITAL_VELOCITY = 0"
   ]
  },
  {
   "cell_type": "code",
   "execution_count": 10,
   "id": "ccceb46b",
   "metadata": {},
   "outputs": [],
   "source": [
    "_N_TIME_STEPS = int(1e4)"
   ]
  },
  {
   "cell_type": "code",
   "execution_count": 11,
   "id": "a065c11a",
   "metadata": {},
   "outputs": [],
   "source": [
    "time = 0\n",
    "dt = _TIME_STEP\n",
    "t_end = _N_TIME_STEPS * _TIME_STEP"
   ]
  },
  {
   "cell_type": "code",
   "execution_count": 12,
   "id": "2a1b47ee",
   "metadata": {},
   "outputs": [],
   "source": [
    "positions = np.zeros(_N_TIME_STEPS)\n",
    "velocities = np.zeros(_N_TIME_STEPS)\n",
    "forces = np.zeros(_N_TIME_STEPS)\n",
    "\n",
    "ENERGY = np.zeros(_N_TIME_STEPS)"
   ]
  },
  {
   "cell_type": "code",
   "execution_count": 13,
   "id": "24656ab9",
   "metadata": {},
   "outputs": [],
   "source": [
    "positions[0] = _INITAL_POSITION\n",
    "velocities[0] = _INITAL_VELOCITY"
   ]
  },
  {
   "cell_type": "code",
   "execution_count": 14,
   "id": "74e04c0a",
   "metadata": {},
   "outputs": [],
   "source": [
    "for step in range(_N_TIME_STEPS - 1):\n",
    "    p, v = RungeKuttaCoupled1(time, positions[step], velocities[step], dt, dxdt1, dvdt1)\n",
    "    positions[step + 1] = p\n",
    "    velocities[step + 1] = v\n",
    "    time = time + dt"
   ]
  },
  {
   "cell_type": "code",
   "execution_count": 15,
   "id": "c22c4ebf",
   "metadata": {},
   "outputs": [],
   "source": [
    "positions;"
   ]
  },
  {
   "cell_type": "code",
   "execution_count": 16,
   "id": "3d4f7f29",
   "metadata": {},
   "outputs": [
    {
     "data": {
      "text/plain": [
       "[<matplotlib.lines.Line2D at 0x7fa26c4c3b80>]"
      ]
     },
     "execution_count": 16,
     "metadata": {},
     "output_type": "execute_result"
    },
    {
     "data": {
      "image/png": "[encoded data removed]",
      "text/plain": [
       "<Figure size 432x288 with 1 Axes>"
      ]
     },
     "metadata": {
      "needs_background": "light"
     },
     "output_type": "display_data"
    }
   ],
   "source": [
    "plt.plot(positions)"
   ]
  },
  {
   "cell_type": "code",
   "execution_count": 17,
   "id": "0215ca68",
   "metadata": {},
   "outputs": [
    {
     "data": {
      "text/plain": [
       "[<matplotlib.lines.Line2D at 0x7fa26c8da490>]"
      ]
     },
     "execution_count": 17,
     "metadata": {},
     "output_type": "execute_result"
    },
    {
     "data": {
      "image/png": "[encoded data removed]",
      "text/plain": [
       "<Figure size 432x288 with 1 Axes>"
      ]
     },
     "metadata": {
      "needs_background": "light"
     },
     "output_type": "display_data"
    }
   ],
   "source": [
    "plt.plot(velocities)"
   ]
  },
  {
   "cell_type": "code",
   "execution_count": 18,
   "id": "90c922b6",
   "metadata": {},
   "outputs": [
    {
     "data": {
      "text/plain": [
       "[<matplotlib.lines.Line2D at 0x7fa26cda1940>]"
      ]
     },
     "execution_count": 18,
     "metadata": {},
     "output_type": "execute_result"
    },
    {
     "data": {
      "image/png": "[encoded data removed]",
      "text/plain": [
       "<Figure size 432x288 with 1 Axes>"
      ]
     },
     "metadata": {
      "needs_background": "light"
     },
     "output_type": "display_data"
    }
   ],
   "source": [
    "plt.plot(positions)\n",
    "plt.plot(velocities)"
   ]
  },
  {
   "cell_type": "code",
   "execution_count": 19,
   "id": "fc2bc912",
   "metadata": {},
   "outputs": [
    {
     "data": {
      "text/plain": [
       "[<matplotlib.lines.Line2D at 0x7fa26cf03580>]"
      ]
     },
     "execution_count": 19,
     "metadata": {},
     "output_type": "execute_result"
    },
    {
     "data": {
      "image/png": "[encoded data removed]",
      "text/plain": [
       "<Figure size 432x288 with 1 Axes>"
      ]
     },
     "metadata": {
      "needs_background": "light"
     },
     "output_type": "display_data"
    }
   ],
   "source": [
    "plt.plot(positions, velocities)"
   ]
  },
  {
   "cell_type": "code",
   "execution_count": 20,
   "id": "08777d89",
   "metadata": {},
   "outputs": [
    {
     "data": {
      "image/png": "[encoded data removed]",
      "text/plain": [
       "<Figure size 432x288 with 1 Axes>"
      ]
     },
     "metadata": {
      "needs_background": "light"
     },
     "output_type": "display_data"
    }
   ],
   "source": [
    "fs = 10\n",
    "N = 1e5\n",
    "f, t, Sxx = signal.spectrogram(positions[:1000], fs)\n",
    "plt.pcolormesh(t, f, Sxx, shading='gouraud')\n",
    "df = f[3] - f[2]\n",
    "plt.ylabel('Frequency [Hz]')\n",
    "plt.xlabel('Time [sec]')\n",
    "plt.show()"
   ]
  },
  {
   "cell_type": "code",
   "execution_count": 21,
   "id": "77a7cefa",
   "metadata": {},
   "outputs": [
    {
     "data": {
      "text/plain": [
       "[<matplotlib.lines.Line2D at 0x7fa26e46f460>]"
      ]
     },
     "execution_count": 21,
     "metadata": {},
     "output_type": "execute_result"
    },
    {
     "data": {
      "image/png": "[encoded data removed]",
      "text/plain": [
       "<Figure size 432x288 with 1 Axes>"
      ]
     },
     "metadata": {
      "needs_background": "light"
     },
     "output_type": "display_data"
    }
   ],
   "source": [
    "psd = np.mean(Sxx, axis=1)\n",
    "plt.plot(f, psd)"
   ]
  },
  {
   "cell_type": "code",
   "execution_count": 22,
   "id": "d9ce2d2b",
   "metadata": {},
   "outputs": [
    {
     "data": {
      "text/plain": [
       "0.15625"
      ]
     },
     "execution_count": 22,
     "metadata": {},
     "output_type": "execute_result"
    }
   ],
   "source": [
    "f[np.argmax(psd)]"
   ]
  },
  {
   "cell_type": "code",
   "execution_count": 23,
   "id": "5931acde",
   "metadata": {},
   "outputs": [
    {
     "data": {
      "text/plain": [
       "[<matplotlib.lines.Line2D at 0x7fa26e56b370>]"
      ]
     },
     "execution_count": 23,
     "metadata": {},
     "output_type": "execute_result"
    },
    {
     "data": {
      "image/png": "[encoded data removed]",
      "text/plain": [
       "<Figure size 432x288 with 1 Axes>"
      ]
     },
     "metadata": {
      "needs_background": "light"
     },
     "output_type": "display_data"
    }
   ],
   "source": [
    "\n",
    "psd = np.mean(Sxx, axis=1)\n",
    "plt.plot(np.ones(100) * f[np.argmax(psd)], np.linspace(0, 100, 100))\n",
    "plt.plot(f, psd)"
   ]
  },
  {
   "cell_type": "code",
   "execution_count": null,
   "id": "db3a2a8e",
   "metadata": {},
   "outputs": [],
   "source": []
  },
  {
   "cell_type": "code",
   "execution_count": null,
   "id": "45b541e4",
   "metadata": {},
   "outputs": [],
   "source": []
  },
  {
   "cell_type": "code",
   "execution_count": 24,
   "id": "5ef38bf7",
   "metadata": {},
   "outputs": [],
   "source": [
    "def autocorr(x):\n",
    "    result = np.correlate(x, x, mode='full')\n",
    "    return result[result.size//2:]"
   ]
  },
  {
   "cell_type": "code",
   "execution_count": 25,
   "id": "f3010a4c",
   "metadata": {},
   "outputs": [
    {
     "data": {
      "text/plain": [
       "[<matplotlib.lines.Line2D at 0x7fa26e3cdd90>]"
      ]
     },
     "execution_count": 25,
     "metadata": {},
     "output_type": "execute_result"
    },
    {
     "data": {
      "image/png": "[encoded data removed]",
      "text/plain": [
       "<Figure size 432x288 with 1 Axes>"
      ]
     },
     "metadata": {
      "needs_background": "light"
     },
     "output_type": "display_data"
    }
   ],
   "source": [
    "plt.plot(autocorr(positions))"
   ]
  },
  {
   "cell_type": "code",
   "execution_count": null,
   "id": "ef8027c8",
   "metadata": {},
   "outputs": [],
   "source": []
  },
  {
   "cell_type": "code",
   "execution_count": null,
   "id": "89d05c4e",
   "metadata": {},
   "outputs": [],
   "source": []
  },
  {
   "cell_type": "code",
   "execution_count": null,
   "id": "ea388831",
   "metadata": {},
   "outputs": [],
   "source": []
  },
  {
   "cell_type": "code",
   "execution_count": null,
   "id": "2b2af9da",
   "metadata": {},
   "outputs": [],
   "source": []
  },
  {
   "cell_type": "code",
   "execution_count": null,
   "id": "0191a6eb",
   "metadata": {},
   "outputs": [],
   "source": []
  },
  {
   "cell_type": "code",
   "execution_count": null,
   "id": "bb15ae98",
   "metadata": {},
   "outputs": [],
   "source": []
  },
  {
   "cell_type": "code",
   "execution_count": null,
   "id": "4951bdc5",
   "metadata": {},
   "outputs": [],
   "source": []
  },
  {
   "cell_type": "code",
   "execution_count": null,
   "id": "400d7952",
   "metadata": {},
   "outputs": [],
   "source": []
  },
  {
   "cell_type": "code",
   "execution_count": null,
   "id": "6cebd4ed",
   "metadata": {},
   "outputs": [],
   "source": []
  }
 ],
 "metadata": {
  "kernelspec": {
   "display_name": "Python 3 (ipykernel)",
   "language": "python",
   "name": "python3"
  },
  "language_info": {
   "codemirror_mode": {
    "name": "ipython",
    "version": 3
   },
   "file_extension": ".py",
   "mimetype": "text/x-python",
   "name": "python",
   "nbconvert_exporter": "python",
   "pygments_lexer": "ipython3",
   "version": "3.9.7"
  }
 },
 "nbformat": 4,
 "nbformat_minor": 5
}
