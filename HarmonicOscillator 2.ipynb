{
 "cells": [
  {
   "cell_type": "markdown",
   "id": "95aaed99",
   "metadata": {},
   "source": [
    "Damped Harmonic Oscillator"
   ]
  },
  {
   "cell_type": "code",
   "execution_count": 1,
   "id": "5cd689e6",
   "metadata": {},
   "outputs": [],
   "source": [
    "import numpy as np\n",
    "import matplotlib.pyplot as plt\n",
    "from scipy import signal\n",
    "from scipy.fft import fftshift"
   ]
  },
  {
   "cell_type": "code",
   "execution_count": 29,
   "id": "2e4e372d",
   "metadata": {},
   "outputs": [],
   "source": [
    "class Particle:\n",
    "    def __init__(self, number_of_time_steps, pos0=0.0, vel0=0.0):\n",
    "        self.position = np.zeros(_N_TIME_STEPS)\n",
    "        self.velocity = np.zeros(_N_TIME_STEPS)\n",
    "        \n",
    "        self.positions[0] = pos\n",
    "        self.velocity[0] = vel"
   ]
  },
  {
   "cell_type": "code",
   "execution_count": 26,
   "id": "ad8f86c9",
   "metadata": {},
   "outputs": [],
   "source": [
    "class simulation:\n",
    "    def __init__(self, _N_TIME_STEPS, _TIME_STEP):\n",
    "        self.time_steps = _N_TIME_STEPS\n",
    "        self.dt = _TIME_STEP\n",
    "        self.particle_list = []\n",
    "        self.time = 0.0\n",
    "    \n",
    "    def add_particle(self, inital_pos, inital_vel, number_of_time_steps):\n",
    "        self.particle_list.append(Particle(inital_pos, inital_vel, number_of_time_steps))\n",
    "    \n",
    "    def integrate_step(self, integrator):\n",
    "        pass\n",
    "        \n",
    "    \"\"\" \"\"\"\n",
    "    def dvdt1(self, x, y, z):\n",
    "        return -100 * y - 1 * z\n",
    "\n",
    "    \"\"\" \"\"\"\n",
    "    def dxdt1(self, x, y, z):\n",
    "        return z\n",
    "        \n",
    "    \n",
    "    def run_simulation(self, integrator):\n",
    "        for step in range(self.time_steps - 1):\n",
    "            for p in self.particle_list:\n",
    "                p, v = integrator(self.time, p.positions[step], p.velocities[step], dt, self.dxdt1, self.dvdt1)\n",
    "                self.positions[step + 1] = p\n",
    "                self.velocities[step + 1] = v\n",
    "                self.time = self.time + dt\n",
    "    \n",
    "    def get_simulation_results():\n",
    "        return self.particle_list"
   ]
  },
  {
   "cell_type": "code",
   "execution_count": null,
   "id": "90ce9421",
   "metadata": {},
   "outputs": [],
   "source": []
  },
  {
   "cell_type": "code",
   "execution_count": null,
   "id": "a5b1d74e",
   "metadata": {},
   "outputs": [],
   "source": []
  },
  {
   "cell_type": "code",
   "execution_count": null,
   "id": "1b38f079",
   "metadata": {},
   "outputs": [],
   "source": []
  },
  {
   "cell_type": "code",
   "execution_count": null,
   "id": "e74fae44",
   "metadata": {},
   "outputs": [],
   "source": []
  },
  {
   "cell_type": "code",
   "execution_count": null,
   "id": "ebc0ec0f",
   "metadata": {},
   "outputs": [],
   "source": []
  },
  {
   "cell_type": "code",
   "execution_count": null,
   "id": "e226ea63",
   "metadata": {},
   "outputs": [],
   "source": []
  },
  {
   "cell_type": "code",
   "execution_count": null,
   "id": "2a762e3a",
   "metadata": {},
   "outputs": [],
   "source": []
  },
  {
   "cell_type": "code",
   "execution_count": null,
   "id": "5cc5d452",
   "metadata": {},
   "outputs": [],
   "source": []
  },
  {
   "cell_type": "code",
   "execution_count": null,
   "id": "c678e14e",
   "metadata": {},
   "outputs": [],
   "source": []
  },
  {
   "cell_type": "code",
   "execution_count": null,
   "id": "b9cdbfc1",
   "metadata": {},
   "outputs": [],
   "source": []
  },
  {
   "cell_type": "code",
   "execution_count": null,
   "id": "73b31df4",
   "metadata": {},
   "outputs": [],
   "source": []
  },
  {
   "cell_type": "code",
   "execution_count": null,
   "id": "8e35dd81",
   "metadata": {},
   "outputs": [],
   "source": []
  },
  {
   "cell_type": "code",
   "execution_count": null,
   "id": "f73a1753",
   "metadata": {},
   "outputs": [],
   "source": []
  },
  {
   "cell_type": "code",
   "execution_count": 2,
   "id": "6a1107a2",
   "metadata": {},
   "outputs": [],
   "source": [
    "\"\"\" \"\"\"\n",
    "def dvdt1(x, y, z):\n",
    "    return -100 * y - 1 * z\n",
    "\n",
    "\"\"\" \"\"\"\n",
    "def dxdt1(x, y, z):\n",
    "    return z"
   ]
  },
  {
   "cell_type": "code",
   "execution_count": 3,
   "id": "b14bf167",
   "metadata": {},
   "outputs": [],
   "source": [
    "def RungeKuttaCoupled1(x, y, z, dx, dydx, dzdx):\n",
    "    # x --> t\n",
    "    # y --> x\n",
    "    # z --> v\n",
    "    # dydx --> dx/dt = v\n",
    "    # dzdx --> dv/dt = -x\n",
    "    k1 = dx*dydx(x, y, z)\n",
    "    h1 = dx*dzdx(x, y, z)\n",
    "    k2 = dx*dydx(x+dx/2., y+k1/2., z+h1/2.)\n",
    "    h2 = dx*dzdx(x+dx/2., y+k1/2., z+h1/2.)\n",
    "    k3 = dx*dydx(x+dx/2., y+k2/2., z+h2/2.)\n",
    "    h3 = dx*dzdx(x+dx/2., y+k2/2., z+h2/2.)\n",
    "    k4 = dx*dydx(x+dx, y+k3, z+h3)\n",
    "    h4 = dx*dzdx(x+dx, y+k3, z+h3)\n",
    "\n",
    "    y = y + 1./6.*(k1+2*k2+2*k3+k4)\n",
    "    z = z + 1./6.*(h1+2*h2+2*h3+h4)\n",
    "    #x = x + dx\n",
    "    \n",
    "    return y, z"
   ]
  },
  {
   "cell_type": "code",
   "execution_count": 4,
   "id": "4c525630",
   "metadata": {},
   "outputs": [],
   "source": [
    "_TIME_STEP = 0.01"
   ]
  },
  {
   "cell_type": "code",
   "execution_count": 5,
   "id": "971cf830",
   "metadata": {},
   "outputs": [],
   "source": [
    "_INITAL_POSITION = 3\n",
    "_INITAL_VELOCITY = 0"
   ]
  },
  {
   "cell_type": "code",
   "execution_count": 6,
   "id": "258b6953",
   "metadata": {},
   "outputs": [],
   "source": [
    "_N_TIME_STEPS = int(1e4)"
   ]
  },
  {
   "cell_type": "code",
   "execution_count": 7,
   "id": "69c80cf3",
   "metadata": {},
   "outputs": [],
   "source": [
    "time = 0\n",
    "dt = _TIME_STEP\n",
    "t_end = _N_TIME_STEPS * _TIME_STEP"
   ]
  },
  {
   "cell_type": "code",
   "execution_count": 8,
   "id": "78a32f79",
   "metadata": {},
   "outputs": [],
   "source": [
    "positions = np.zeros(_N_TIME_STEPS)\n",
    "velocities = np.zeros(_N_TIME_STEPS)\n",
    "forces = np.zeros(_N_TIME_STEPS)\n",
    "\n",
    "ENERGY = np.zeros(_N_TIME_STEPS)"
   ]
  },
  {
   "cell_type": "code",
   "execution_count": 9,
   "id": "7e56908a",
   "metadata": {},
   "outputs": [],
   "source": [
    "positions[0] = _INITAL_POSITION\n",
    "velocities[0] = _INITAL_VELOCITY"
   ]
  },
  {
   "cell_type": "code",
   "execution_count": 10,
   "id": "9b9c72a3",
   "metadata": {},
   "outputs": [],
   "source": [
    "for step in range(_N_TIME_STEPS - 1):\n",
    "    p, v = RungeKuttaCoupled1(time, positions[step], velocities[step], dt, dxdt1, dvdt1)\n",
    "    positions[step + 1] = p\n",
    "    velocities[step + 1] = v\n",
    "    time = time + dt"
   ]
  },
  {
   "cell_type": "code",
   "execution_count": 11,
   "id": "1c2d488b",
   "metadata": {},
   "outputs": [],
   "source": [
    "positions;"
   ]
  },
  {
   "cell_type": "code",
   "execution_count": 12,
   "id": "b76e8b4a",
   "metadata": {},
   "outputs": [
    {
     "data": {
      "text/plain": [
       "[<matplotlib.lines.Line2D at 0x7fd786e4a850>]"
      ]
     },
     "execution_count": 12,
     "metadata": {},
     "output_type": "execute_result"
    },
    {
     "data": {
      "image/png": "[encoded data removed]",
      "text/plain": [
       "<Figure size 432x288 with 1 Axes>"
      ]
     },
     "metadata": {
      "needs_background": "light"
     },
     "output_type": "display_data"
    }
   ],
   "source": [
    "plt.plot(positions)"
   ]
  },
  {
   "cell_type": "code",
   "execution_count": 13,
   "id": "2c7b2e99",
   "metadata": {},
   "outputs": [
    {
     "data": {
      "text/plain": [
       "[<matplotlib.lines.Line2D at 0x7fd786fa1130>]"
      ]
     },
     "execution_count": 13,
     "metadata": {},
     "output_type": "execute_result"
    },
    {
     "data": {
      "image/png": "[encoded data removed]",
      "text/plain": [
       "<Figure size 432x288 with 1 Axes>"
      ]
     },
     "metadata": {
      "needs_background": "light"
     },
     "output_type": "display_data"
    }
   ],
   "source": [
    "plt.plot(velocities)"
   ]
  },
  {
   "cell_type": "code",
   "execution_count": 14,
   "id": "9fbcf7a8",
   "metadata": {},
   "outputs": [
    {
     "data": {
      "text/plain": [
       "[<matplotlib.lines.Line2D at 0x7fd787120640>]"
      ]
     },
     "execution_count": 14,
     "metadata": {},
     "output_type": "execute_result"
    },
    {
     "data": {
      "image/png": "[encoded data removed]",
      "text/plain": [
       "<Figure size 432x288 with 1 Axes>"
      ]
     },
     "metadata": {
      "needs_background": "light"
     },
     "output_type": "display_data"
    }
   ],
   "source": [
    "plt.plot(positions)\n",
    "plt.plot(velocities)"
   ]
  },
  {
   "cell_type": "code",
   "execution_count": 15,
   "id": "e5924f0d",
   "metadata": {},
   "outputs": [
    {
     "data": {
      "text/plain": [
       "[<matplotlib.lines.Line2D at 0x7fd7873d7c70>]"
      ]
     },
     "execution_count": 15,
     "metadata": {},
     "output_type": "execute_result"
    },
    {
     "data": {
      "image/png": "[encoded data removed]",
      "text/plain": [
       "<Figure size 432x288 with 1 Axes>"
      ]
     },
     "metadata": {
      "needs_background": "light"
     },
     "output_type": "display_data"
    }
   ],
   "source": [
    "plt.plot(positions, velocities)"
   ]
  },
  {
   "cell_type": "code",
   "execution_count": 16,
   "id": "98a219f3",
   "metadata": {},
   "outputs": [
    {
     "data": {
      "image/png": "[encoded data removed]",
      "text/plain": [
       "<Figure size 432x288 with 1 Axes>"
      ]
     },
     "metadata": {
      "needs_background": "light"
     },
     "output_type": "display_data"
    }
   ],
   "source": [
    "fs = 10\n",
    "N = 1e5\n",
    "f, t, Sxx = signal.spectrogram(positions[:1000], fs)\n",
    "plt.pcolormesh(t, f, Sxx, shading='gouraud')\n",
    "df = f[3] - f[2]\n",
    "plt.ylabel('Frequency [Hz]')\n",
    "plt.xlabel('Time [sec]')\n",
    "plt.show()"
   ]
  },
  {
   "cell_type": "code",
   "execution_count": 19,
   "id": "71674b77",
   "metadata": {},
   "outputs": [],
   "source": [
    "def area_of_triangle(x1, x2, x3):\n",
    "    l1 = sqrt((x1 - x2)**2 + (y1 - y2)**2)\n",
    "    l2 = sqrt((x2 - x3)**2 + (y2 - y3)**2)\n",
    "    l3 = sqrt((x3 - x1)**2 + (y3 - y1)**2)\n",
    "\n",
    "    p = (l1 + l2 + l3)/2\n",
    "    area = sqrt(p * (p - l1) * (p - l2) * (p - l3))\n",
    "    \n",
    "    return area"
   ]
  },
  {
   "cell_type": "code",
   "execution_count": null,
   "id": "644534c8",
   "metadata": {},
   "outputs": [],
   "source": []
  },
  {
   "cell_type": "code",
   "execution_count": null,
   "id": "6259b069",
   "metadata": {},
   "outputs": [],
   "source": []
  }
 ],
 "metadata": {
  "kernelspec": {
   "display_name": "Python 3 (ipykernel)",
   "language": "python",
   "name": "python3"
  },
  "language_info": {
   "codemirror_mode": {
    "name": "ipython",
    "version": 3
   },
   "file_extension": ".py",
   "mimetype": "text/x-python",
   "name": "python",
   "nbconvert_exporter": "python",
   "pygments_lexer": "ipython3",
   "version": "3.9.7"
  }
 },
 "nbformat": 4,
 "nbformat_minor": 5
}
